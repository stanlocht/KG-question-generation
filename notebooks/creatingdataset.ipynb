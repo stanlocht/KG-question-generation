{
 "cells": [
  {
   "cell_type": "markdown",
   "metadata": {},
   "source": [
    "### Creating a subgraphs"
   ]
  },
  {
   "cell_type": "code",
   "execution_count": 36,
   "metadata": {},
   "outputs": [],
   "source": [
    "import json\n",
    "with open('example_knowledge_graph_for_training_data_generation.txt', 'r', encoding='utf-8') as f:\n",
    "    data = f.read()\n",
    "graph = json.loads(data)"
   ]
  },
  {
   "cell_type": "code",
   "execution_count": 37,
   "metadata": {},
   "outputs": [],
   "source": [
    "id2name = dict()\n",
    "for node in graph['nodes']:\n",
    "    try:\n",
    "        id2name[node['node_id']] = node['name']\n",
    "    except:\n",
    "        id2name[node['node_id']] = node['value']"
   ]
  },
  {
   "cell_type": "code",
   "execution_count": 38,
   "metadata": {},
   "outputs": [],
   "source": [
    "failed = []\n",
    "triples = ''\n",
    "for edge in graph['edges']:\n",
    "    try:\n",
    "        head = id2name[edge['src_node']]\n",
    "        relation = edge['type']\n",
    "        tail = id2name[edge['dest_node']]\n",
    "        triples+=f'<H> {head} <R> {relation} <T> {tail} '\n",
    "    except:\n",
    "        failed.append(edge)"
   ]
  },
  {
   "cell_type": "code",
   "execution_count": 39,
   "metadata": {
    "collapsed": true,
    "jupyter": {
     "outputs_hidden": true
    }
   },
   "outputs": [
    {
     "data": {
      "text/plain": [
       "['',\n",
       " ' cities <R> YIELDS <T> name ',\n",
       " ' cities <R> YIELDS <T> lat ',\n",
       " ' cities <R> YIELDS <T> lon ',\n",
       " ' zip_codes <R> YIELDS <T> city ',\n",
       " ' zip_codes <R> YIELDS <T> zip_code ',\n",
       " ' demographics <R> YIELDS <T> city ',\n",
       " ' demographics <R> YIELDS <T> age ',\n",
       " ' demographics <R> YIELDS <T> income ',\n",
       " ' demographics <R> YIELDS <T> population ',\n",
       " ' demographics <R> YIELDS <T> percentage_higher_educated ',\n",
       " ' energy_consumption <R> YIELDS <T> overall_energy_consumption ',\n",
       " ' energy_consumption <R> YIELDS <T> ev_consumption ',\n",
       " ' energy_consumption <R> YIELDS <T> domestic_consumption ',\n",
       " ' energy_consumption <R> YIELDS <T> corporate_consumption ',\n",
       " ' energy_generation <R> YIELDS <T> overall_energy_generation ',\n",
       " ' energy_generation <R> YIELDS <T> pv_generation ',\n",
       " ' energy_generation <R> YIELDS <T> heat_generation ',\n",
       " ' energy_generation <R> YIELDS <T> wind_generation ',\n",
       " ' weather <R> YIELDS <T> 2m_temperature ',\n",
       " ' weather <R> YIELDS <T> precipitation ',\n",
       " ' weather <R> YIELDS <T> snow ',\n",
       " ' weather <R> YIELDS <T> wind_speed ',\n",
       " ' sales <R> YIELDS <T> datetime ',\n",
       " ' sales <R> YIELDS <T> gross_profit ',\n",
       " ' sales <R> YIELDS <T> num_sales ',\n",
       " ' sales <R> YIELDS <T> category ',\n",
       " ' name <R> ABOUT_CONCEPT <T> city ',\n",
       " ' lat <R> ABOUT_CONCEPT <T> latitude ',\n",
       " ' lon <R> ABOUT_CONCEPT <T> longitude ',\n",
       " ' city <R> ABOUT_CONCEPT <T> city ',\n",
       " ' zip_code <R> ABOUT_CONCEPT <T> zip_code ',\n",
       " ' city <R> ABOUT_CONCEPT <T> city ',\n",
       " ' age <R> ABOUT_CONCEPT <T> age ',\n",
       " ' income <R> ABOUT_CONCEPT <T> income ',\n",
       " ' population <R> ABOUT_CONCEPT <T> population ',\n",
       " ' percentage_higher_educated <R> ABOUT_CONCEPT <T> higher_education ',\n",
       " ' overall_energy_consumption <R> ABOUT_CONCEPT <T> energy_consumption ',\n",
       " ' ev_consumption <R> ABOUT_CONCEPT <T> energy_consumption ',\n",
       " ' domestic_consumption <R> ABOUT_CONCEPT <T> energy_consumption ',\n",
       " ' corporate_consumption <R> ABOUT_CONCEPT <T> energy_consumption ',\n",
       " ' ev_consumption <R> ABOUT_CONCEPT <T> electric_vehicle ',\n",
       " ' domestic_consumption <R> ABOUT_CONCEPT <T> domestic ',\n",
       " ' corporate_consumption <R> ABOUT_CONCEPT <T> corporate ',\n",
       " ' overall_energy_generation <R> ABOUT_CONCEPT <T> energy_generation ',\n",
       " ' pv_generation <R> ABOUT_CONCEPT <T> photovoltaic ',\n",
       " ' heat_generation <R> ABOUT_CONCEPT <T> cogeneration ',\n",
       " ' wind_generation <R> ABOUT_CONCEPT <T> wind_power ',\n",
       " ' 2m_temperature <R> ABOUT_CONCEPT <T> temperature ',\n",
       " ' precipitation <R> ABOUT_CONCEPT <T> rain ',\n",
       " ' snow <R> ABOUT_CONCEPT <T> snow ',\n",
       " ' wind_speed <R> ABOUT_CONCEPT <T> wind_speed ',\n",
       " ' datetime <R> ABOUT_CONCEPT <T> moment_in_time ',\n",
       " ' gross_profit <R> ABOUT_CONCEPT <T> sale ',\n",
       " ' category <R> ABOUT_CONCEPT <T> sale_category ',\n",
       " ' city_name <R> EXAMPLE_VALUE <T> Amsterdam ',\n",
       " ' city_name <R> EXAMPLE_VALUE <T> Utrecht ',\n",
       " ' city_name <R> EXAMPLE_VALUE <T> Rotterdam ',\n",
       " ' city_name <R> EXAMPLE_VALUE <T> Veenendaal ',\n",
       " ' city_name <R> EXAMPLE_VALUE <T> Den Bosch ',\n",
       " ' wgs84_latitude <R> EXAMPLE_VALUE <T> 52.1 ',\n",
       " ' wgs84_latitude <R> EXAMPLE_VALUE <T> 50.43 ',\n",
       " ' wgs84_longitude <R> EXAMPLE_VALUE <T> 4.82 ',\n",
       " ' wgs84_longitude <R> EXAMPLE_VALUE <T> 5.12 ',\n",
       " ' zip_code <R> EXAMPLE_VALUE <T> 1425AM ',\n",
       " ' zip_code <R> EXAMPLE_VALUE <T> 5390CD ',\n",
       " ' zip_code <R> EXAMPLE_VALUE <T> 7543NB ',\n",
       " ' zip_code <R> EXAMPLE_VALUE <T> 9762WH ',\n",
       " ' years <R> EXAMPLE_VALUE <T> 23 ',\n",
       " ' years <R> EXAMPLE_VALUE <T> 43 ',\n",
       " ' years <R> EXAMPLE_VALUE <T> 51 ',\n",
       " ' years <R> EXAMPLE_VALUE <T> 73 ',\n",
       " ' euros <R> EXAMPLE_VALUE <T> 312.32 ',\n",
       " ' euros <R> EXAMPLE_VALUE <T> 43253.72 ',\n",
       " ' euros <R> EXAMPLE_VALUE <T> 6347.11 ',\n",
       " ' number <R> EXAMPLE_VALUE <T> 1337 ',\n",
       " ' number <R> EXAMPLE_VALUE <T> 9001 ',\n",
       " ' number <R> EXAMPLE_VALUE <T> 42 ',\n",
       " ' fraction <R> EXAMPLE_VALUE <T> 0.45 ',\n",
       " ' fraction <R> EXAMPLE_VALUE <T> 0.23 ',\n",
       " ' wh <R> EXAMPLE_VALUE <T> 2345 ',\n",
       " ' celcius <R> EXAMPLE_VALUE <T> 7.3 ',\n",
       " ' celcius <R> EXAMPLE_VALUE <T> 18.4 ',\n",
       " ' categorical <R> EXAMPLE_VALUE <T> ice_cream ',\n",
       " ' categorical <R> EXAMPLE_VALUE <T> umbrellas ',\n",
       " ' categorical <R> EXAMPLE_VALUE <T> clothing ',\n",
       " ' categorical <R> EXAMPLE_VALUE <T> tech ',\n",
       " ' categorical <R> EXAMPLE_VALUE <T> beverages ',\n",
       " ' name <R> FEATURE_UNIT <T> city_name ',\n",
       " ' lat <R> FEATURE_UNIT <T> wgs84_latitude ',\n",
       " ' lon <R> FEATURE_UNIT <T> wgs84_longitude ',\n",
       " ' city <R> FEATURE_UNIT <T> city_name ',\n",
       " ' zip_code <R> FEATURE_UNIT <T> zip_code ',\n",
       " ' city <R> FEATURE_UNIT <T> city_name ',\n",
       " ' age <R> FEATURE_UNIT <T> years ',\n",
       " ' income <R> FEATURE_UNIT <T> euros ',\n",
       " ' population <R> FEATURE_UNIT <T> number ',\n",
       " ' percentage_higher_educated <R> FEATURE_UNIT <T> fraction ',\n",
       " ' overall_energy_consumption <R> FEATURE_UNIT <T> mwh ',\n",
       " ' ev_consumption <R> FEATURE_UNIT <T> mwh ',\n",
       " ' domestic_consumption <R> FEATURE_UNIT <T> mwh ',\n",
       " ' corporate_consumption <R> FEATURE_UNIT <T> mwh ',\n",
       " ' overall_energy_generation <R> FEATURE_UNIT <T> mwh ',\n",
       " ' pv_generation <R> FEATURE_UNIT <T> mwh ',\n",
       " ' heat_generation <R> FEATURE_UNIT <T> mwh ',\n",
       " ' wind_generation <R> FEATURE_UNIT <T> mwh ',\n",
       " ' 2m_temperature <R> FEATURE_UNIT <T> celcius ',\n",
       " ' precipitation <R> FEATURE_UNIT <T> millimeters ',\n",
       " ' snow <R> FEATURE_UNIT <T> centimeters ',\n",
       " ' wind_speed <R> FEATURE_UNIT <T> kmh ',\n",
       " ' datetime <R> FEATURE_UNIT <T> datetime ',\n",
       " ' gross_profit <R> FEATURE_UNIT <T> euros ',\n",
       " ' num_sales <R> FEATURE_UNIT <T> number ',\n",
       " ' category <R> FEATURE_UNIT <T> categorical ']"
      ]
     },
     "execution_count": 39,
     "metadata": {},
     "output_type": "execute_result"
    }
   ],
   "source": [
    "triples.split('<H>')"
   ]
  },
  {
   "cell_type": "markdown",
   "metadata": {},
   "source": [
    "### make graphs"
   ]
  },
  {
   "cell_type": "markdown",
   "metadata": {},
   "source": [
    "1. What is the longitude value for Veenendaal?\n",
    "2. How many umbrellas are sold?\n",
    "3. What is the gross profit in euros on clothing this year?\n",
    "4. What is the average income per person in Utrecht?\n",
    "5. what is the average age in Amsterdam?\n",
    "6. What fraction of people in Den Bosch are higher educated?\n",
    "7. What is the average income of people aged 43?\n",
    "8. What is the temperature in Veenendaal?\n",
    "9. What are the coordinates of Amsterdam?\n",
    "10. How many milimeters of rain fell in Rotterdam this year?\n",
    "11. What is the popupulation of Veenendaal?\n",
    "12. What is the profit on icecream?\n",
    "13. What is the temperature in Veenendaal?\n",
    "14. From what city is the zip code 1425AM?\n",
    "15. The latitude 50.43 and longitude 52.15 correspond to which city?\n",
    "16. 312.32 is the profit of what sale category?\n",
    "17. What unit is used to measure wind speed?\n",
    "18. What unit is used to indicate temperature?\n",
    "19. Age can be measured with what unit?\n",
    "20. Income, population and age are elements of what?"
   ]
  },
  {
   "cell_type": "code",
   "execution_count": 40,
   "metadata": {},
   "outputs": [],
   "source": [
    "def make_graph(text, answer):\n",
    "    result = f'<A> {answer} '\n",
    "    triples = text.split('\\n')[1:-1]\n",
    "    for triple in triples:\n",
    "        head, relation, tail = triple.split(',')\n",
    "        result += f'<H> {head} <R>{relation} <T>{tail} '\n",
    "    return result"
   ]
  },
  {
   "cell_type": "code",
   "execution_count": 41,
   "metadata": {},
   "outputs": [],
   "source": [
    "# 1. What is the longitude value for Veenendaal?\n",
    "g1 = make_graph(\n",
    "'''\n",
    "city_name, example_value, Veenendaal\n",
    "name, feature_unit, city_name\n",
    "cities, yields, name\n",
    "cities, yields, lat\n",
    "lat, feature_unit, wgs84_latitude\n",
    "wgs84_latitude, value, 50.43\n",
    "'''\n",
    ", '50.43')   "
   ]
  },
  {
   "cell_type": "code",
   "execution_count": 42,
   "metadata": {},
   "outputs": [],
   "source": [
    "# 2. How many umbrellas are sold?\n",
    "g2 = make_graph(\n",
    "'''\n",
    "sales, yields, category\n",
    "category, feature_unit, categorical\n",
    "categorical, value, umbrellas\n",
    "sales, yields, num_sales\n",
    "num_sales, feature_unit, number\n",
    "number, value, 1337\n",
    "'''\n",
    ", '1337') "
   ]
  },
  {
   "cell_type": "code",
   "execution_count": 43,
   "metadata": {},
   "outputs": [],
   "source": [
    "# 3. What is the gross profit in euros on clothing this year?\n",
    "g3 = make_graph(\n",
    "'''\n",
    "sales, yields, category\n",
    "category, feature_unit, categorical\n",
    "categorical, value, clothing\n",
    "sales, yields, gross_profit\n",
    "gross_profit, feature_unit, euros\n",
    "euros, value, 312.32\n",
    "'''\n",
    ", '312.32')  "
   ]
  },
  {
   "cell_type": "code",
   "execution_count": 44,
   "metadata": {},
   "outputs": [],
   "source": [
    "# 4. What is the average income per person in Utrecht?\n",
    "g4 = make_graph(\n",
    "'''\n",
    "city_name, example_value, Utrecht\n",
    "feature_unit, name, city_name\n",
    "city, yields, city_name\n",
    "demographics, yields, city\n",
    "demographics, yields, income\n",
    "income, feature_unit, euros\n",
    "euros, value, 2683\n",
    "'''\n",
    ", '2683')   "
   ]
  },
  {
   "cell_type": "code",
   "execution_count": 45,
   "metadata": {},
   "outputs": [],
   "source": [
    "# 5. what is the average age in Amsterdam?\n",
    "g5 = make_graph(\n",
    "'''\n",
    "city_name, example_value, Amsterdam\n",
    "feature_unit, name, city_name\n",
    "city, yields, city_name\n",
    "demographics, yields, city\n",
    "demographics, yields, age\n",
    "age, feature_unit, years\n",
    "years, value, 43\n",
    "'''\n",
    ", '43') "
   ]
  },
  {
   "cell_type": "code",
   "execution_count": 46,
   "metadata": {},
   "outputs": [],
   "source": [
    "# 6. What fraction of people in Den Bosch are higher educated?\n",
    "g6 = make_graph(\n",
    "'''\n",
    "city_name, example_value, Amsterdam\n",
    "name, feature_unit, city_name\n",
    "city, yields, city_name\n",
    "demographics, yields, city\n",
    "demographics, yields, education\n",
    "demographics, about_concept, higher_education\n",
    "education, feature_unit, fraction\n",
    "fraction, value, 0.23\n",
    "'''\n",
    ",'0.23')  "
   ]
  },
  {
   "cell_type": "code",
   "execution_count": 47,
   "metadata": {},
   "outputs": [],
   "source": [
    "# 7. What is the average income of people aged 43?\n",
    "g7 = make_graph(\n",
    "'''\n",
    "demographics, yields, age\n",
    "age, feature_unit, years\n",
    "years, value, 43\n",
    "demographics, yields, income\n",
    "income, feature_unit, euros\n",
    "euros, value, 2683\n",
    "'''\n",
    ", '2683')   "
   ]
  },
  {
   "cell_type": "code",
   "execution_count": 48,
   "metadata": {},
   "outputs": [],
   "source": [
    "# 8. What is the temperature in Veenendaal?\n",
    "g8 = make_graph(\n",
    "'''\n",
    "city_name, example_value, Veenendaal\n",
    "name, feature_unit, city_name\n",
    "city, yields, city_name\n",
    "weather, yields, city\n",
    "weather, yields, temperature\n",
    "temperature, feature_unit, celcius\n",
    "celcius, value, 18.4\n",
    "'''\n",
    ", '18.4')"
   ]
  },
  {
   "cell_type": "code",
   "execution_count": 49,
   "metadata": {},
   "outputs": [],
   "source": [
    "# 9. What are the coordinates of Amsterdam?\n",
    "g9 = make_graph(\n",
    "'''\n",
    "city_name, example_value, Veenendaal\n",
    "name, feature_unit, city_name\n",
    "cities, yields, name\n",
    "cities, yields, lat\n",
    "cities, yields, lon\n",
    "lat, feature_unit, wgs84_latitude\n",
    "wgs84_latitude, value, 54.43\n",
    "lon, feature_unit, wgs84_longitude\n",
    "wgs84_longitude, value, 40.43\n",
    "'''\n",
    ", '54.43 40.43') "
   ]
  },
  {
   "cell_type": "code",
   "execution_count": 50,
   "metadata": {},
   "outputs": [],
   "source": [
    "# 10. How many milimeters of rain fell in Rotterdam this year?\n",
    "g10 = make_graph(\n",
    "'''\n",
    "city_name, example_value, Amsterdam\n",
    "name, feature_unit, city_name\n",
    "city, yields, city_name\n",
    "weather, yields, city\n",
    "weather, yields, precipation\n",
    "precipation, about_concept, rain\n",
    "precipation, feature_unit, millimeters\n",
    "millimeters, value, 9.4\n",
    "'''\n",
    ", '9.4')  "
   ]
  },
  {
   "cell_type": "code",
   "execution_count": 51,
   "metadata": {},
   "outputs": [],
   "source": [
    "# 11. What is the popupulation of Veenendaal?\n",
    "g11 = make_graph(\n",
    "'''\n",
    "city_name, example_value, Veenendaal\n",
    "name, feature_unit, city_name\n",
    "city, yields, city_name\n",
    "demographics, yields, city\n",
    "demographics, yields, population\n",
    "population, feature_unit, number\n",
    "number, value, 65975\n",
    "'''\n",
    ",'65975')"
   ]
  },
  {
   "cell_type": "code",
   "execution_count": 52,
   "metadata": {},
   "outputs": [],
   "source": [
    "# 12. What is the profit on icecream?\n",
    "g12 = make_graph(\n",
    "'''\n",
    "sales, yields, category\n",
    "category, feature_unit, categorical\n",
    "categorical, value, icecream\n",
    "sales, yields, gross_profit\n",
    "gross_profit, feature_unit, euros\n",
    "euros, value, 612.32\n",
    "'''\n",
    ", '612.32')    \n"
   ]
  },
  {
   "cell_type": "code",
   "execution_count": 53,
   "metadata": {},
   "outputs": [],
   "source": [
    "# 13. What is the temperature in Amsterdam?\n",
    "g13 = make_graph(\n",
    "'''\n",
    "city_name, example_value, Amsterdam\n",
    "name, feature_unit, city_name\n",
    "city, yields, city_name\n",
    "weather, yields, city\n",
    "weather, yields, temperature\n",
    "temperature, feature_unit, celcius\n",
    "celcius, value, 18.4\n",
    "'''\n",
    ", '18.4')  "
   ]
  },
  {
   "cell_type": "code",
   "execution_count": 54,
   "metadata": {},
   "outputs": [],
   "source": [
    "# 14. From what city is the zip code 1425AM?\n",
    "g14 = make_graph(\n",
    "'''\n",
    "city_name, example_value, Amsterdam\n",
    "name, feature_unit, city_name\n",
    "city, yields, city_name\n",
    "zip_codes, yields, city\n",
    "zip_codes, yields, zip_code\n",
    "zip_code, value, 1424AM\n",
    "'''\n",
    ", 'Amsterdam') "
   ]
  },
  {
   "cell_type": "code",
   "execution_count": 55,
   "metadata": {},
   "outputs": [],
   "source": [
    "# 15. The latitude 50.43 and longitude 52.15 correspond to which city?\n",
    "g15 = make_graph(\n",
    "'''\n",
    "city_name, example_value, Rotterdam\n",
    "name, feature_unit, city_name\n",
    "cities, yields, name\n",
    "cities, yields, lat\n",
    "cities, yields, lon\n",
    "lat, feature_unit, wgs84_latitude\n",
    "wgs84_latitude, value, 50.43\n",
    "lon, feature_unit, wgs84_longitude\n",
    "wgs84_longitude, value, 52.15\n",
    "'''\n",
    ", 'Rotterdam')  "
   ]
  },
  {
   "cell_type": "code",
   "execution_count": 56,
   "metadata": {},
   "outputs": [],
   "source": [
    "# 16. 312.32 is the price of what profit category?\n",
    "g16 = make_graph(\n",
    "'''\n",
    "sales, yields, category\n",
    "category, feature_unit, categorical\n",
    "categorical, value, clothing\n",
    "sales, yields, gross_profit\n",
    "gross_profit, feature_unit, euros\n",
    "euros, value, 312.32\n",
    "'''\n",
    ",'clothing') "
   ]
  },
  {
   "cell_type": "code",
   "execution_count": 57,
   "metadata": {},
   "outputs": [],
   "source": [
    "# 17. What unit is used to measure wind speed?\n",
    "g17 = make_graph(\n",
    "'''\n",
    "wind_speed, feature_unit, kmh\n",
    "'''\n",
    ", 'kmh') "
   ]
  },
  {
   "cell_type": "code",
   "execution_count": 58,
   "metadata": {},
   "outputs": [],
   "source": [
    "# 18. What unit is used to indicate temperature?\n",
    "g18 = make_graph(\n",
    "'''\n",
    "temperature, feature_unit, celcius\n",
    "'''\n",
    ", 'celcius')  "
   ]
  },
  {
   "cell_type": "code",
   "execution_count": 59,
   "metadata": {},
   "outputs": [],
   "source": [
    "# 19. Age can be measured with what unit?\n",
    "g19 = make_graph(\n",
    "'''\n",
    "age, feature_unit, years\n",
    "'''\n",
    ", 'years')   "
   ]
  },
  {
   "cell_type": "code",
   "execution_count": 60,
   "metadata": {},
   "outputs": [],
   "source": [
    "# 20. Income, population and age are elements of what?\n",
    "g20 = make_graph(\n",
    "'''\n",
    "demographics, yields, income\n",
    "demographics, yields, population\n",
    "demographics, yields, age\n",
    "'''\n",
    ", 'demographics') "
   ]
  },
  {
   "cell_type": "code",
   "execution_count": 61,
   "metadata": {},
   "outputs": [],
   "source": [
    "srcs = [g1,g2,g3,g4,g5,g6,g7,g8,g9,g10,g11,g12,g13,g14,g15,g16,g17,g18,g19,g20]\n",
    "tgts = '''What is the longitude value for Veenendaal?\n",
    "How many umbrellas are sold?\n",
    "What is the gross profit in euros on clothing this year?\n",
    "What is the average income per person in Utrecht?\n",
    "what is the average age in Amsterdam?\n",
    "What fraction of people in Den Bosch are higher educated?\n",
    "What is the average income of people aged 43?\n",
    "What is the temperature in Veenendaal?\n",
    "What are the coordinates of Amsterdam?\n",
    "How many milimeters of rain fell in Rotterdam this year?\n",
    "What is the popupulation of Veenendaal?\n",
    "What is the profit on icecream?\n",
    "What is the temperature in Veenendaal?\n",
    "From what city is the zip code 1425AM?\n",
    "The latitude 50.43 and longitude 52.15 correspond to which city?\n",
    "312.32 is the profit of what sale category?\n",
    "What unit is used to measure wind speed?\n",
    "What unit is used to indicate temperature?\n",
    "Age can be measured with what unit?\n",
    "Income, population and age are elements of what?'''.split('\\n')"
   ]
  },
  {
   "cell_type": "code",
   "execution_count": 62,
   "metadata": {},
   "outputs": [],
   "source": [
    "with open('src_custom.txt', 'w', encoding='utf-8') as s, open('tgt_custom.txt', 'w', encoding='utf-8') as t:\n",
    "    for i in range(len(srcs)):\n",
    "        s.write(srcs[i]+'\\n')\n",
    "        t.write(tgts[i]+'\\n')"
   ]
  },
  {
   "cell_type": "code",
   "execution_count": 63,
   "metadata": {},
   "outputs": [],
   "source": [
    "with open('original_questions.txt','w',encoding='utf-8') as f:\n",
    "    [f.write(f'{i+1}. {e}\\n') for i,e in enumerate(tgts)];"
   ]
  },
  {
   "cell_type": "code",
   "execution_count": 35,
   "metadata": {},
   "outputs": [],
   "source": [
    "with open('new_preds.txt','w', encoding='utf-8') as f:\n",
    "    f.write('''1. what is the name of the city that has a veenendaal '\n",
    "2. what type of money does the umbrellas of the umbrellas have?\n",
    "3. what type of money does the country that makes cervejaria kaiser palma\n",
    "4. what is the name of the city that has the utrecht city as its currency \n",
    "5. what is the name of the city that has a metric unit of value of less than\n",
    "6. what is the name of the city that has a higher_concept than 0 \n",
    "7. what is the name of the currency of the country that has a governmental body of the\n",
    "8. what is the name of the city that has a venendaal's\n",
    "9. what is the name of the city that has a gdp value greater than 55\n",
    "10. what is the name of the city that has a pound sterling as its currency?\n",
    "11. what city has a population of less than 64975 and is the location of ve\n",
    "12. what type of currency does the country that makes icecream have?\n",
    "13. what is the name of the city that has the smallest city area of land?\n",
    "14. what is the zip code of amsterdam?\n",
    "15. what is the name of the city that has a gdp value greater than 51\n",
    "16. what type of money does the country that uses the euro as currency has a nominal value of\n",
    "17. what is the wind speed of the wind_speed?\n",
    "18. what is the temperature of the area that the film  i love to be honest \n",
    "19. what is the age of the person who is in the movie  i love to be\n",
    "20. what is the name of the population that produces a metric ton of money?''')"
   ]
  },
  {
   "cell_type": "code",
   "execution_count": null,
   "metadata": {},
   "outputs": [],
   "source": []
  }
 ],
 "metadata": {
  "kernelspec": {
   "display_name": "Python 3",
   "language": "python",
   "name": "python3"
  },
  "language_info": {
   "codemirror_mode": {
    "name": "ipython",
    "version": 3
   },
   "file_extension": ".py",
   "mimetype": "text/x-python",
   "name": "python",
   "nbconvert_exporter": "python",
   "pygments_lexer": "ipython3",
   "version": "3.8.5"
  }
 },
 "nbformat": 4,
 "nbformat_minor": 4
}
