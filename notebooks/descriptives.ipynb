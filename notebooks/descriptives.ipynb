{
 "cells": [
  {
   "cell_type": "code",
   "execution_count": 1,
   "metadata": {},
   "outputs": [],
   "source": [
    "import re\n",
    "import numpy as np\n",
    "import matplotlib.pyplot as plt\n",
    "import seaborn as sns"
   ]
  },
  {
   "cell_type": "code",
   "execution_count": 5,
   "metadata": {},
   "outputs": [],
   "source": [
    "def triples_per_graph(dataset):\n",
    "    l = []\n",
    "    for graph in dataset:\n",
    "        l.append(int((len(get_elements(graph))-1)/3))\n",
    "    return l\n",
    "\n",
    "def triples_per_graph_d(dataset):\n",
    "    l = triples_per_graph(dataset)\n",
    "    return {'min': np.min(l), 'max': np.max(l), 'avg':np.mean(l), 'std':np.std(l)}\n",
    "\n",
    "def unique_entities(dataset):\n",
    "    entities = set()\n",
    "    for graph in dataset:\n",
    "        entities.update(get_nodes(graph))\n",
    "    return len(entities)\n",
    "\n",
    "def unique_relations(dataset):\n",
    "    relations = set()\n",
    "    for graph in dataset:\n",
    "        relations.update(get_relations(graph))\n",
    "    return len(relations)\n",
    "        \n",
    "def get_elements(graph):\n",
    "    elements = re.split(r'<[A H R T]> ', graph)[1:]\n",
    "    return [e.strip() for e in elements]\n",
    "\n",
    "def get_nodes(graph):\n",
    "    elements = get_elements(graph)\n",
    "    nodes = []\n",
    "    for i in range(len(elements)-1):\n",
    "        if i%3 == 1:\n",
    "            continue\n",
    "        nodes.append(elements[i+1])\n",
    "    return set(nodes)\n",
    "\n",
    "def get_relations(graph):\n",
    "    elements = get_elements(graph)\n",
    "    relations = []\n",
    "    for i in range(len(elements)-1):\n",
    "        if i%3 == 1:\n",
    "            relations.append(elements[i+1])\n",
    "            continue\n",
    "    return set(relations)\n",
    "\n",
    "def question_d(questions):\n",
    "    l = []\n",
    "    for question in questions:\n",
    "        l.append(len(question.split()))\n",
    "    return {'min': np.min(l), 'max': np.max(l), 'avg':np.mean(l), 'std':np.std(l)}\n",
    "\n",
    "def descriptives(src, questions):\n",
    "    fulldict = {'total_samples': len(src),\n",
    "                   'triples_per_graph': triples_per_graph_d(src),\n",
    "                   'total_entities': unique_entities(src),\n",
    "                   'total_relations': unique_relations(src),\n",
    "                   'question_descriptives': question_d(questions)\n",
    "                  }\n",
    "    return fulldict"
   ]
  },
  {
   "cell_type": "code",
   "execution_count": 6,
   "metadata": {},
   "outputs": [],
   "source": [
    "def get_descriptives(dataset):\n",
    "    splits = ['train', 'val', 'test']\n",
    "    \n",
    "    srcdata = []\n",
    "    for split in splits:\n",
    "        file = f'data/{dataset}/src_a_{split}.txt'\n",
    "        with open(file, 'r', encoding='utf-8') as f:\n",
    "            srcdata += f.read().splitlines()\n",
    "    \n",
    "    tgtdata = []\n",
    "    for split in splits:\n",
    "        file = f'data/{dataset}/tgt_{split}.txt'\n",
    "        with open(file, 'r', encoding='utf-8') as f:\n",
    "            tgtdata += f.read().splitlines()\n",
    "    return descriptives(srcdata, tgtdata)"
   ]
  },
  {
   "cell_type": "code",
   "execution_count": 7,
   "metadata": {},
   "outputs": [
    {
     "data": {
      "text/plain": [
       "{'total_samples': 11793,\n",
       " 'triples_per_graph': {'min': 2,\n",
       "  'max': 3,\n",
       "  'avg': 2.703044178750106,\n",
       "  'std': 0.45691690872159124},\n",
       " 'total_entities': 2880,\n",
       " 'total_relations': 116,\n",
       " 'question_descriptives': {'min': 6,\n",
       "  'max': 21,\n",
       "  'avg': 12.429576867633342,\n",
       "  'std': 2.458538812291408}}"
      ]
     },
     "execution_count": 7,
     "metadata": {},
     "output_type": "execute_result"
    }
   ],
   "source": [
    "get_descriptives('PQ')"
   ]
  },
  {
   "cell_type": "code",
   "execution_count": 8,
   "metadata": {},
   "outputs": [
    {
     "data": {
      "text/plain": [
       "{'total_samples': 22989,\n",
       " 'triples_per_graph': {'min': 0,\n",
       "  'max': 86,\n",
       "  'avg': 4.167297403105834,\n",
       "  'std': 5.550924382730383},\n",
       " 'total_entities': 16776,\n",
       " 'total_relations': 547,\n",
       " 'question_descriptives': {'min': 4,\n",
       "  'max': 35,\n",
       "  'avg': 14.113489059985211,\n",
       "  'std': 4.153912309391954}}"
      ]
     },
     "execution_count": 8,
     "metadata": {},
     "output_type": "execute_result"
    }
   ],
   "source": [
    "get_descriptives('WQ')"
   ]
  },
  {
   "cell_type": "code",
   "execution_count": 104,
   "metadata": {},
   "outputs": [
    {
     "data": {
      "image/png": "[encoded data removed]",
      "text/plain": [
       "<Figure size 432x288 with 1 Axes>"
      ]
     },
     "metadata": {
      "needs_background": "light"
     },
     "output_type": "display_data"
    }
   ],
   "source": [
    "plt.xlim(0, 20)\n",
    "plt.hist(triples_per_graph(data), bins = 86);"
   ]
  },
  {
   "cell_type": "code",
   "execution_count": null,
   "metadata": {},
   "outputs": [],
   "source": []
  }
 ],
 "metadata": {
  "kernelspec": {
   "display_name": "Python 3",
   "language": "python",
   "name": "python3"
  },
  "language_info": {
   "codemirror_mode": {
    "name": "ipython",
    "version": 3
   },
   "file_extension": ".py",
   "mimetype": "text/x-python",
   "name": "python",
   "nbconvert_exporter": "python",
   "pygments_lexer": "ipython3",
   "version": "3.8.5"
  }
 },
 "nbformat": 4,
 "nbformat_minor": 4
}
