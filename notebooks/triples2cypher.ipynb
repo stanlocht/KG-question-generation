{
 "cells": [
  {
   "cell_type": "markdown",
   "metadata": {},
   "source": [
    "### Triple graph to cypher\n",
    "You can use this code to transform graphs as concatenated triples, with the answer triple at the start, to a cypher CREATE query. This way it can be loaded into Neo4j."
   ]
  },
  {
   "cell_type": "code",
   "execution_count": 3,
   "metadata": {},
   "outputs": [],
   "source": [
    "import re"
   ]
  },
  {
   "cell_type": "code",
   "execution_count": 4,
   "metadata": {},
   "outputs": [],
   "source": [
    "def var_name(string, number):\n",
    "    \"\"\" Convert node name to valid and unique Cypher variable name. \"\"\"\n",
    "    s = re.sub(r'[^\\w\\s]','',string)\n",
    "    result = '_'.join([e.lower() for e in s.split()])\n",
    "    if result[0].isnumeric():\n",
    "        result = 'a' + result\n",
    "    return result + str(number)\n",
    "\n",
    "def get_nodes(elements):\n",
    "    nodes = []\n",
    "    for i in range(len(elements)-1):\n",
    "        if i%3 == 1:\n",
    "            continue\n",
    "        nodes.append(elements[i+1])\n",
    "    return list(set(nodes))\n",
    "\n",
    "def convert(graph, number): \n",
    "    # get all elements\n",
    "    elements = re.split(r'<[A H R T]> ', graph)[1:]\n",
    "    elements = [e.strip() for e in elements]\n",
    "    \n",
    "    # get nodes\n",
    "    nodes = get_nodes(elements)\n",
    "    \n",
    "    # add answer node\n",
    "    answer = elements[0]\n",
    "    if answer == '':\n",
    "        result = \"CREATE \"\n",
    "    else:\n",
    "        result = f\"CREATE ({var_name(answer, number)}:answer {{name:\\\"{answer}\\\", q:{number}}}), \"    \n",
    "    \n",
    "    # add other nodes\n",
    "    for node in nodes:\n",
    "        if node.lower() == answer:\n",
    "            continue\n",
    "        result += f\"({var_name(node, number)}:normal {{name:\\\"{node}\\\", q:{number}}}), \"\n",
    "    \n",
    "    # add relations\n",
    "    for i in range(int((len(elements)-1)/3)):\n",
    "        h = elements[i*3+1]\n",
    "        r = elements[i*3+2]\n",
    "        t = elements[i*3+3]\n",
    "        \n",
    "        result += f\"({var_name(h, number)})-[:{var_name(r, '')}]->({var_name(t, number)}), \"\n",
    "    \n",
    "    return result[:-2]"
   ]
  },
  {
   "cell_type": "code",
   "execution_count": 3,
   "metadata": {},
   "outputs": [],
   "source": [
    "in_file = 'data/PQ/src_a_test.txt'\n",
    "with open(in_file, 'r',encoding='utf-8') as f:\n",
    "    data = f.read().splitlines()"
   ]
  },
  {
   "cell_type": "code",
   "execution_count": 4,
   "metadata": {},
   "outputs": [],
   "source": [
    "out_file = 'cypher_graphsPQ.txt'\n",
    "with open(out_file, 'w',encoding='utf-8') as f:\n",
    "    for i, graph in enumerate(data):\n",
    "        f.write(convert(graph, i+2000) + '\\n')"
   ]
  },
  {
   "cell_type": "code",
   "execution_count": null,
   "metadata": {},
   "outputs": [],
   "source": []
  }
 ],
 "metadata": {
  "kernelspec": {
   "display_name": "Python 3",
   "language": "python",
   "name": "python3"
  },
  "language_info": {
   "codemirror_mode": {
    "name": "ipython",
    "version": 3
   },
   "file_extension": ".py",
   "mimetype": "text/x-python",
   "name": "python",
   "nbconvert_exporter": "python",
   "pygments_lexer": "ipython3",
   "version": "3.8.5"
  }
 },
 "nbformat": 4,
 "nbformat_minor": 4
}
